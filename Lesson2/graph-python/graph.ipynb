{
 "cells": [
  {
   "cell_type": "code",
   "execution_count": 1,
   "metadata": {},
   "outputs": [],
   "source": [
    "class Graph:\n",
    "    def __init__(self):\n",
    "        self.adjacency_list = {}\n",
    "\n",
    "    # Aggiunge un nodo al grafo\n",
    "    def add_node(self, node):\n",
    "        if node not in self.adjacency_list:\n",
    "            self.adjacency_list[node] = []\n",
    "\n",
    "    # Aggiunge un arco tra due nodi\n",
    "    def add_edge(self, u, v):\n",
    "        self.add_node(u)\n",
    "        self.add_node(v)\n",
    "        self.adjacency_list[u].append(v)\n",
    "        self.adjacency_list[v].append(u)  # Per grafo non orientato\n",
    "\n",
    "    # Controlla se due nodi sono connessi\n",
    "    def are_connected(self, u, v):\n",
    "        visited = set()\n",
    "        return v in self.dfs(u, visited)\n",
    "\n",
    "    # Trova tutti i nodi connessi a un dato nodo\n",
    "    def get_connected_nodes(self, u):\n",
    "        visited = set()\n",
    "        return self.dfs(u, visited)\n",
    "\n",
    "    # Conta il numero di componenti connesse\n",
    "    def count_connected_components(self):\n",
    "        visited = set()\n",
    "        count = 0\n",
    "\n",
    "        for node in self.adjacency_list.keys():\n",
    "            if node not in visited:\n",
    "                self.dfs(node, visited)\n",
    "                count += 1\n",
    "\n",
    "        return count\n",
    "\n",
    "    # Calcola il grado di un nodo\n",
    "    def get_degree(self, u):\n",
    "        return len(self.adjacency_list.get(u, []))\n",
    "\n",
    "    # Trova un cammino tra due nodi (se esiste)\n",
    "    def find_path(self, u, v):\n",
    "        visited = set()\n",
    "        path = []\n",
    "        if self.dfs_find_path(u, v, visited, path):\n",
    "            return path\n",
    "        return None  # Nessun cammino trovato\n",
    "\n",
    "    # Stampa il grafo\n",
    "    def print_graph(self):\n",
    "        for node, neighbors in self.adjacency_list.items():\n",
    "            print(f\"{node}: {', '.join(map(str, neighbors))}\")\n",
    "\n",
    "    # DFS per esplorazione\n",
    "    def dfs(self, node, visited):\n",
    "        result = []\n",
    "        stack = [node]\n",
    "\n",
    "        while stack:\n",
    "            current = stack.pop()\n",
    "            if current not in visited:\n",
    "                visited.add(current)\n",
    "                result.append(current)\n",
    "                for neighbor in self.adjacency_list[current]:\n",
    "                    if neighbor not in visited:\n",
    "                        stack.append(neighbor)\n",
    "\n",
    "        return result\n",
    "\n",
    "    # DFS per trovare un cammino specifico\n",
    "    def dfs_find_path(self, current, target, visited, path):\n",
    "        visited.add(current)\n",
    "        path.append(current)\n",
    "\n",
    "        if current == target:\n",
    "            return True\n",
    "\n",
    "        for neighbor in self.adjacency_list[current]:\n",
    "            if neighbor not in visited:\n",
    "                if self.dfs_find_path(neighbor, target, visited, path):\n",
    "                    return True\n",
    "\n",
    "        path.pop()  # Backtrack\n",
    "        return False"
   ]
  },
  {
   "cell_type": "code",
   "execution_count": 2,
   "metadata": {},
   "outputs": [
    {
     "name": "stdout",
     "output_type": "stream",
     "text": [
      "Grafo:\n",
      "1: 2, 3\n",
      "2: 1\n",
      "3: 1, 4\n",
      "4: 3\n",
      "5: 6\n",
      "6: 5\n"
     ]
    }
   ],
   "source": [
    "graph = Graph()\n",
    "\n",
    "# Aggiungi nodi e archi al grafo\n",
    "graph.add_edge(1, 2)\n",
    "graph.add_edge(1, 3)\n",
    "graph.add_edge(3, 4)\n",
    "graph.add_edge(5, 6)\n",
    "\n",
    "print(\"Grafo:\")\n",
    "graph.print_graph()"
   ]
  },
  {
   "cell_type": "code",
   "execution_count": 3,
   "metadata": {},
   "outputs": [
    {
     "name": "stdout",
     "output_type": "stream",
     "text": [
      "\n",
      "1. Nodi 1 e 4 connessi?\n",
      "True\n",
      "\n",
      "1. Nodi 1 e 6 connessi?\n",
      "False\n",
      "\n",
      "2. Nodi connessi a 1:\n",
      "[1, 3, 4, 2]\n",
      "\n",
      "3. Numero di componenti connesse:\n",
      "2\n",
      "\n",
      "4. Grado del nodo 1:\n",
      "2\n",
      "\n",
      "5. Cammino tra 1 e 4:\n",
      "1 -> 3 -> 4\n"
     ]
    }
   ],
   "source": [
    "print(\"\\n1. Nodi 1 e 4 connessi?\")\n",
    "print(graph.are_connected(1, 4))\n",
    "\n",
    "print(\"\\n1. Nodi 1 e 6 connessi?\")\n",
    "print(graph.are_connected(1, 6))\n",
    "\n",
    "print(\"\\n2. Nodi connessi a 1:\")\n",
    "print(graph.get_connected_nodes(1))\n",
    "\n",
    "print(\"\\n3. Numero di componenti connesse:\")\n",
    "print(graph.count_connected_components())\n",
    "\n",
    "print(\"\\n4. Grado del nodo 1:\")\n",
    "print(graph.get_degree(1))\n",
    "\n",
    "print(\"\\n5. Cammino tra 1 e 4:\")\n",
    "path = graph.find_path(1, 4)\n",
    "print(\" -> \".join(map(str, path)) if path else \"Nessun cammino trovato\")"
   ]
  },
  {
   "cell_type": "code",
   "execution_count": 6,
   "metadata": {},
   "outputs": [
    {
     "name": "stdout",
     "output_type": "stream",
     "text": [
      "True\n"
     ]
    }
   ],
   "source": [
    "print(graph.are_connected(2, 2))"
   ]
  }
 ],
 "metadata": {
  "kernelspec": {
   "display_name": "Python 3",
   "language": "python",
   "name": "python3"
  },
  "language_info": {
   "codemirror_mode": {
    "name": "ipython",
    "version": 3
   },
   "file_extension": ".py",
   "mimetype": "text/x-python",
   "name": "python",
   "nbconvert_exporter": "python",
   "pygments_lexer": "ipython3",
   "version": "3.11.2"
  }
 },
 "nbformat": 4,
 "nbformat_minor": 2
}
