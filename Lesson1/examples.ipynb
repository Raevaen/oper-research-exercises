{
 "cells": [
  {
   "cell_type": "markdown",
   "metadata": {},
   "source": [
    "La fabbrica del cioccolato produce due tipi di creme (che per semplicità\n",
    "chiamiamo A e B) che vende rispettivamente a 25 e 28 €/Kg.\n",
    "Considerando la composizione delle singole creme e le disponibilità in\n",
    "magazzino degli ingredienti qual è il massimo guadagno che si può\n",
    "ottenere producendo A e B?"
   ]
  },
  {
   "cell_type": "markdown",
   "metadata": {},
   "source": [
    "composizione: \n",
    "Latte Cioccolato Zucchero Burro Profitto × kg\n",
    "\n",
    "crema A 40% 40% 10% 10% 25 €\n",
    "\n",
    "crema B 24% 45% 31% - 28 €\n",
    "\n",
    "disp. (kg) 312 360 160 70\n"
   ]
  },
  {
   "cell_type": "markdown",
   "metadata": {},
   "source": [
    "Obiettivo: max guadagno: max(25x + 28y) €\n",
    "\n",
    "Decisori: x per crema A, y per crema B\n",
    "\n",
    "Vincoli:\n",
    "- 0.4x + 0.24y <= 312\n",
    "- 0.4x + 0.45y <= 360\n",
    "- 0.1x + 0.31y <= 160\n",
    "- 0.1x + 0y <= 70"
   ]
  },
  {
   "cell_type": "code",
   "execution_count": null,
   "metadata": {
    "vscode": {
     "languageId": "plaintext"
    }
   },
   "outputs": [],
   "source": []
  },
  {
   "cell_type": "markdown",
   "metadata": {},
   "source": [
    "Si dispone di un budget di b € per realizzare n progetti.\n",
    "Ogni progetto ha un costo ci e un guadagno atteso di pi €. \n",
    "\n",
    "Quali progetti occorre selezionare per massimizzare il guadagno atteso\n",
    "rispettando il vincolo di budget?"
   ]
  },
  {
   "cell_type": "markdown",
   "metadata": {},
   "source": [
    "Sol. Ottima: Prima più profittevole, prima piùleggero, rapporti pi/ci decrescenti"
   ]
  },
  {
   "cell_type": "code",
   "execution_count": null,
   "metadata": {
    "vscode": {
     "languageId": "plaintext"
    }
   },
   "outputs": [],
   "source": []
  },
  {
   "cell_type": "markdown",
   "metadata": {},
   "source": [
    "Si vogliono realizzare n progetti nei prossimi T anni. Di ogni progetto i si\n",
    "conosce un indice di redditività pi che esprime il guadagno finale atteso (in Euro) e un\n",
    "profilo di costo ai = (ai1, ai2, …, aiT) per ogni anno del periodo considerato. Inoltre, in\n",
    "ogni anno j del periodo si dispone di un budget di bj €. Quali progetti occorre\n",
    "selezionare per massimizzare il guadagno atteso rispettando i vincoli di budget?"
   ]
  },
  {
   "cell_type": "markdown",
   "metadata": {},
   "source": [
    "# Variabili decisionali:\n",
    "- xij = 1 se il progetto i-esimo inizia nell’anno j-esimo, 0 altrimenti\n",
    "- xij = costo del progetto i-esimo nell’anno j-esimo\n",
    "- xi = 1 se il progetto i-esimo è selezionato, 0 altrimenti\n",
    "- x = numero di progetti selezionati\n",
    "\n",
    "nome | redditività p (K€) | anno1 | anno2 | anno3 | anno4\n",
    "\n",
    "progetto1 |      30          |    10 |  5    |   -2  |   -1\n",
    "\n",
    "progetto2 |      20          |    12 |  2    |   -2  |   -5\n",
    "\n",
    "progetto3 |      25          |    15 |  -1   |   5   |   5\n",
    "\n",
    "budget    |                  |    30 |  6    |   6   |   6\n",
    "\n",
    "# Funzione obiettivo:\n",
    "z = max 30x1 + 20x2 + 25x3\n",
    "\n",
    "10x1 + 12x2 + 15x3 <=  30\n",
    "\n",
    "5x1 + 2x2 -x3 <=  6\n",
    "\n",
    "-2x1 -2x2 + 5x3 <=  6\n",
    "\n",
    "-x1 -5x2 + 5x3 <=  6\n",
    "\n",
    "xi <= {0,1} i = 1,2,3\n",
    "\n",
    "\n"
   ]
  }
 ],
 "metadata": {
  "language_info": {
   "name": "python"
  }
 },
 "nbformat": 4,
 "nbformat_minor": 2
}
